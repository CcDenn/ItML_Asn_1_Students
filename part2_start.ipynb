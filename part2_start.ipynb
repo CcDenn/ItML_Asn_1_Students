{
 "cells": [
  {
   "cell_type": "code",
   "execution_count": 1,
   "metadata": {},
   "outputs": [],
   "source": [
    "import pandas as pd\n",
    "import numpy as np\n",
    "\n",
    "from sklearn.model_selection import cross_val_score\n",
    "from sklearn.metrics import roc_auc_score\n",
    "from sklearn.metrics import accuracy_score\n",
    "\n",
    "##Seaborn for fancy plots. \n",
    "import matplotlib.pyplot as plt\n",
    "import seaborn as sns\n",
    "plt.rcParams[\"figure.figsize\"] = (8,8)"
   ]
  },
  {
   "attachments": {},
   "cell_type": "markdown",
   "metadata": {},
   "source": [
    "## 3950 Assignment 1: Part 2\n",
    "\n",
    "For this assignment we want to use some sort of tree based model to classify the data below. We have a very small training set, so overfitting is a very real concern. \n",
    "\n",
    "Some specifics for this assignment:\n",
    "<ul>\n",
    "<li>Please use the show_eda to control if EDA stuff is shown. I don't really need to see all the EDA stuff (nor do you after you've done it), so we can make it configurable with a variable to speed up time. Please set this FALSE when you submit, so I can run all and see the outcome without histograms etc...\n",
    "<li>Please ensure that whatever model you end up with is in a variable named best at the end.\n",
    "<li>Please use some pipeline in prepping the data. The test data is in an identical format to the training data, so whatever pipeline you've created for your training will work for the testing. \n",
    "<li>The accuracy scoring will be an average of accuracy and roc_auc. \n",
    "</ul>\n",
    "\n",
    "### Grading Metrics\n",
    "<ul>\n",
    "<li><b>Pipeline Used - 10pts</b> The data loading needs to be in a pipeline. See the test part for illustration. When testing I'll call your pipe with the new data (format is identical to training), so any prep stuff should be in the pipeline. \n",
    "<li><b>Tree Based Model Used - 5pts</b> The model used for classification needs to be some variety of tree, beyond that it is up to you. \n",
    "<li><b>Accuracy - 5pts</b> The final accuracy acheived. This will be a rough ranking, I'm assuming most people will get a similar level of accuracy, marks will only be deducted if yours is far wosrse, as that's an indication that you probably didn't take any/many steps to improve things. \n",
    "<li><b>Clarity and Formatting - 5pts</b> Is it organized and can I read it?\n",
    "    <ul>\n",
    "    <li> <b>Note:</b> for this assignment, and in general, please get rid of my comments and replace them with your own. I'm going to read this, so all of these instructions aren't really required. Think of this as a template, get rid of the stuff that isn't needed, and leave only the things you need to explain your code. \n",
    "    </ul>\n",
    "</ul>\n",
    "\n",
    "For submission, please drop the URL for your repository in the dropbox."
   ]
  },
  {
   "cell_type": "code",
   "execution_count": 4,
   "metadata": {},
   "outputs": [],
   "source": [
    "#Please change to your name.\n",
    "name = \"Chun Chiu\"\n",
    "\n",
    "#Please use this to control EDA. \n",
    "show_eda = False"
   ]
  },
  {
   "cell_type": "code",
   "execution_count": 2,
   "metadata": {},
   "outputs": [
    {
     "data": {
      "text/html": [
       "<div>\n",
       "<style scoped>\n",
       "    .dataframe tbody tr th:only-of-type {\n",
       "        vertical-align: middle;\n",
       "    }\n",
       "\n",
       "    .dataframe tbody tr th {\n",
       "        vertical-align: top;\n",
       "    }\n",
       "\n",
       "    .dataframe thead th {\n",
       "        text-align: right;\n",
       "    }\n",
       "</style>\n",
       "<table border=\"1\" class=\"dataframe\">\n",
       "  <thead>\n",
       "    <tr style=\"text-align: right;\">\n",
       "      <th></th>\n",
       "      <th>target</th>\n",
       "      <th>var_1</th>\n",
       "      <th>var_2</th>\n",
       "      <th>var_3</th>\n",
       "      <th>var_4</th>\n",
       "      <th>var_5</th>\n",
       "      <th>var_6</th>\n",
       "      <th>var_7</th>\n",
       "      <th>var_8</th>\n",
       "      <th>var_9</th>\n",
       "      <th>...</th>\n",
       "      <th>var_191</th>\n",
       "      <th>var_192</th>\n",
       "      <th>var_193</th>\n",
       "      <th>var_194</th>\n",
       "      <th>var_195</th>\n",
       "      <th>var_196</th>\n",
       "      <th>var_197</th>\n",
       "      <th>var_198</th>\n",
       "      <th>var_199</th>\n",
       "      <th>var_200</th>\n",
       "    </tr>\n",
       "  </thead>\n",
       "  <tbody>\n",
       "    <tr>\n",
       "      <th>157</th>\n",
       "      <td>0</td>\n",
       "      <td>0.737</td>\n",
       "      <td>0.828</td>\n",
       "      <td>0.905</td>\n",
       "      <td>0.554</td>\n",
       "      <td>0.155</td>\n",
       "      <td>0.148</td>\n",
       "      <td>0.470</td>\n",
       "      <td>0.538</td>\n",
       "      <td>0.416</td>\n",
       "      <td>...</td>\n",
       "      <td>0.985</td>\n",
       "      <td>0.450</td>\n",
       "      <td>0.819</td>\n",
       "      <td>0.859</td>\n",
       "      <td>0.980</td>\n",
       "      <td>0.825</td>\n",
       "      <td>0.854</td>\n",
       "      <td>0.517</td>\n",
       "      <td>0.968</td>\n",
       "      <td>0.229</td>\n",
       "    </tr>\n",
       "    <tr>\n",
       "      <th>133</th>\n",
       "      <td>1</td>\n",
       "      <td>0.923</td>\n",
       "      <td>0.336</td>\n",
       "      <td>0.184</td>\n",
       "      <td>0.318</td>\n",
       "      <td>0.072</td>\n",
       "      <td>0.776</td>\n",
       "      <td>0.450</td>\n",
       "      <td>0.008</td>\n",
       "      <td>0.776</td>\n",
       "      <td>...</td>\n",
       "      <td>0.014</td>\n",
       "      <td>0.147</td>\n",
       "      <td>0.371</td>\n",
       "      <td>0.268</td>\n",
       "      <td>0.554</td>\n",
       "      <td>0.701</td>\n",
       "      <td>0.434</td>\n",
       "      <td>0.156</td>\n",
       "      <td>0.916</td>\n",
       "      <td>0.796</td>\n",
       "    </tr>\n",
       "    <tr>\n",
       "      <th>239</th>\n",
       "      <td>0</td>\n",
       "      <td>0.640</td>\n",
       "      <td>0.880</td>\n",
       "      <td>0.461</td>\n",
       "      <td>0.751</td>\n",
       "      <td>0.973</td>\n",
       "      <td>0.474</td>\n",
       "      <td>0.157</td>\n",
       "      <td>0.483</td>\n",
       "      <td>0.566</td>\n",
       "      <td>...</td>\n",
       "      <td>0.570</td>\n",
       "      <td>0.417</td>\n",
       "      <td>0.744</td>\n",
       "      <td>0.595</td>\n",
       "      <td>0.236</td>\n",
       "      <td>0.672</td>\n",
       "      <td>0.471</td>\n",
       "      <td>0.195</td>\n",
       "      <td>0.351</td>\n",
       "      <td>0.836</td>\n",
       "    </tr>\n",
       "    <tr>\n",
       "      <th>103</th>\n",
       "      <td>0</td>\n",
       "      <td>0.037</td>\n",
       "      <td>0.483</td>\n",
       "      <td>0.275</td>\n",
       "      <td>0.447</td>\n",
       "      <td>0.475</td>\n",
       "      <td>0.196</td>\n",
       "      <td>0.299</td>\n",
       "      <td>0.132</td>\n",
       "      <td>0.397</td>\n",
       "      <td>...</td>\n",
       "      <td>0.290</td>\n",
       "      <td>0.457</td>\n",
       "      <td>0.029</td>\n",
       "      <td>0.534</td>\n",
       "      <td>0.039</td>\n",
       "      <td>0.400</td>\n",
       "      <td>0.877</td>\n",
       "      <td>0.207</td>\n",
       "      <td>0.622</td>\n",
       "      <td>0.096</td>\n",
       "    </tr>\n",
       "    <tr>\n",
       "      <th>196</th>\n",
       "      <td>0</td>\n",
       "      <td>0.544</td>\n",
       "      <td>0.805</td>\n",
       "      <td>0.276</td>\n",
       "      <td>0.042</td>\n",
       "      <td>0.395</td>\n",
       "      <td>0.820</td>\n",
       "      <td>0.778</td>\n",
       "      <td>0.144</td>\n",
       "      <td>0.511</td>\n",
       "      <td>...</td>\n",
       "      <td>0.463</td>\n",
       "      <td>0.684</td>\n",
       "      <td>0.608</td>\n",
       "      <td>0.518</td>\n",
       "      <td>0.431</td>\n",
       "      <td>0.699</td>\n",
       "      <td>0.061</td>\n",
       "      <td>0.912</td>\n",
       "      <td>0.232</td>\n",
       "      <td>0.590</td>\n",
       "    </tr>\n",
       "  </tbody>\n",
       "</table>\n",
       "<p>5 rows × 201 columns</p>\n",
       "</div>"
      ],
      "text/plain": [
       "     target  var_1  var_2  var_3  var_4  var_5  var_6  var_7  var_8  var_9  \\\n",
       "157       0  0.737  0.828  0.905  0.554  0.155  0.148  0.470  0.538  0.416   \n",
       "133       1  0.923  0.336  0.184  0.318  0.072  0.776  0.450  0.008  0.776   \n",
       "239       0  0.640  0.880  0.461  0.751  0.973  0.474  0.157  0.483  0.566   \n",
       "103       0  0.037  0.483  0.275  0.447  0.475  0.196  0.299  0.132  0.397   \n",
       "196       0  0.544  0.805  0.276  0.042  0.395  0.820  0.778  0.144  0.511   \n",
       "\n",
       "     ...  var_191  var_192  var_193  var_194  var_195  var_196  var_197  \\\n",
       "157  ...    0.985    0.450    0.819    0.859    0.980    0.825    0.854   \n",
       "133  ...    0.014    0.147    0.371    0.268    0.554    0.701    0.434   \n",
       "239  ...    0.570    0.417    0.744    0.595    0.236    0.672    0.471   \n",
       "103  ...    0.290    0.457    0.029    0.534    0.039    0.400    0.877   \n",
       "196  ...    0.463    0.684    0.608    0.518    0.431    0.699    0.061   \n",
       "\n",
       "     var_198  var_199  var_200  \n",
       "157    0.517    0.968    0.229  \n",
       "133    0.156    0.916    0.796  \n",
       "239    0.195    0.351    0.836  \n",
       "103    0.207    0.622    0.096  \n",
       "196    0.912    0.232    0.590  \n",
       "\n",
       "[5 rows x 201 columns]"
      ]
     },
     "execution_count": 2,
     "metadata": {},
     "output_type": "execute_result"
    }
   ],
   "source": [
    "#Load data\n",
    "df = pd.read_csv(\"training.csv\")\n",
    "df = df.drop(columns={\"id\"})\n",
    "df.sample(5)"
   ]
  },
  {
   "cell_type": "markdown",
   "metadata": {},
   "source": [
    "### Starting\n",
    "\n",
    "For this assignment, you have a small training set, so combatting overfitting is key in being accurate!"
   ]
  },
  {
   "cell_type": "code",
   "execution_count": 3,
   "metadata": {},
   "outputs": [
    {
     "data": {
      "text/plain": [
       "(250, 201)"
      ]
     },
     "execution_count": 3,
     "metadata": {},
     "output_type": "execute_result"
    }
   ],
   "source": [
    "df.shape"
   ]
  },
  {
   "attachments": {},
   "cell_type": "markdown",
   "metadata": {},
   "source": [
    "#### Do Modelling Stuff\n",
    "\n",
    "Make a tree model (of some vareity) and make it fit well. Keep in mind the possibility of your tree overfitting, and think of steps you may need to combat that shoudl it occur. "
   ]
  },
  {
   "cell_type": "markdown",
   "metadata": {},
   "source": [
    "### Finishing\n",
    "\n",
    "At the conclusion, please name your best model \"best\". If you look down below in the testing stuff, it should be usable to score as \"best\". \n",
    "\n",
    "You should be able to call it like this and it should work (with whatever data names you have)"
   ]
  },
  {
   "cell_type": "code",
   "execution_count": null,
   "metadata": {},
   "outputs": [],
   "source": [
    "print(best.score(X_test, y_test))\n",
    "print(best)"
   ]
  },
  {
   "cell_type": "markdown",
   "metadata": {},
   "source": [
    "### Testing\n",
    "\n",
    "Please leave the stuff below as-is in your file. \n",
    "\n",
    "This will take your best model and score it with the test data. If you want to test to make sure that yours works, make a copy of the data file and rename it testing.csv, then make sure this runs ok. I will do the same, but the contents of my test file will be different. "
   ]
  },
  {
   "cell_type": "code",
   "execution_count": null,
   "metadata": {},
   "outputs": [],
   "source": [
    "#Load Test Data\n",
    "test_df = pd.read_csv(\"testing.csv\")\n",
    "test_df = test_df.drop(columns={\"id\"})\n",
    "#Create tests and score\n",
    "test_y = np.array(test_df[\"target\"]).reshape(-1,1)\n",
    "test_X = np.array(test_df.drop(columns={\"target\"}))\n",
    "\n",
    "preds = best.predict(test_X)\n",
    "\n",
    "roc_score = roc_auc_score(test_y, preds)\n",
    "acc_score = accuracy_score(test_y, preds)\n",
    "\n",
    "print(roc_score)\n",
    "print(acc_score)\n",
    "print(name, np.mean([roc_score, acc_score]))\n"
   ]
  },
  {
   "attachments": {},
   "cell_type": "markdown",
   "metadata": {},
   "source": [
    "### What Accuracy Changes Were Used\n",
    "\n",
    "Please list here what you did to try to increase accuracy and/or limit overfitting:\n",
    "<ul>\n",
    "<li>\n",
    "<li>\n",
    "</ul>"
   ]
  }
 ],
 "metadata": {
  "kernelspec": {
   "display_name": "backup_env",
   "language": "python",
   "name": "python3"
  },
  "language_info": {
   "codemirror_mode": {
    "name": "ipython",
    "version": 3
   },
   "file_extension": ".py",
   "mimetype": "text/x-python",
   "name": "python",
   "nbconvert_exporter": "python",
   "pygments_lexer": "ipython3",
   "version": "3.9.12"
  },
  "orig_nbformat": 4,
  "vscode": {
   "interpreter": {
    "hash": "151c9688c20f81709e58859c29c8490f30636ea638af397a2125b23f7b5c773b"
   }
  }
 },
 "nbformat": 4,
 "nbformat_minor": 2
}
